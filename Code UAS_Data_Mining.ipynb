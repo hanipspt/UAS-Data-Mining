{
  "nbformat": 4,
  "nbformat_minor": 0,
  "metadata": {
    "colab": {
      "provenance": []
    },
    "kernelspec": {
      "name": "python3",
      "display_name": "Python 3"
    },
    "language_info": {
      "name": "python"
    }
  },
  "cells": [
    {
      "cell_type": "markdown",
      "source": [
        "# **UAS DATA MINING 2023**\n",
        "**Nama  : Hani Puspita**\n",
        "\n",
        "**NIM   : 2111017120001**\n"
      ],
      "metadata": {
        "id": "lctkPF09Fdc8"
      }
    },
    {
      "cell_type": "code",
      "execution_count": null,
      "metadata": {
        "id": "NZSTcKnNZ6RU"
      },
      "outputs": [],
      "source": [
        "import pandas as pd\n",
        "import matplotlib.pyplot as plt\n",
        "from sklearn.model_selection import train_test_split\n",
        "from sklearn.metrics import mean_squared_error\n",
        "from sklearn.metrics import accuracy_score\n",
        "from sklearn.tree import DecisionTreeClassifier, plot_tree, export_text\n",
        "from sklearn import tree\n",
        "from sklearn import metrics\n",
        "from sklearn.metrics import confusion_matrix, classification_report"
      ]
    },
    {
      "cell_type": "code",
      "source": [
        "data = pd.read_excel('Data UAS.xlsx')\n",
        "data.head()"
      ],
      "metadata": {
        "colab": {
          "base_uri": "https://localhost:8080/",
          "height": 206
        },
        "id": "FPXUjbmDauM2",
        "outputId": "798a7ebc-1ee8-4084-93dc-601ffe950828"
      },
      "execution_count": null,
      "outputs": [
        {
          "output_type": "execute_result",
          "data": {
            "text/plain": [
              "       ID  Usia     Gender  Pinjaman  AsetUsaha  omsetperbulan JenisPeminjam  \\\n",
              "0  A01001    48  Laki-laki  20000000   12000000       18000000    Individual   \n",
              "1  A01002    54  Perempuan  15000000   11000000       15000000    Individual   \n",
              "2  A01003    43  Laki-laki  25000000   40500000       45000000      Kelompok   \n",
              "3  A01004    51  Laki-laki  10000000   22500000       30000000    Individual   \n",
              "4  A01005    23  Perempuan  30000000    6000000       12500000      Kelompok   \n",
              "\n",
              "       Wilayah   JenisUsaha  Status  \n",
              "0  DKI Jakarta  Perdagangan  Lancar  \n",
              "1  DKI Jakarta  Perdagangan  Lancar  \n",
              "2  DKI Jakarta  Perdagangan  Lancar  \n",
              "3  DKI Jakarta  Perdagangan  Lancar  \n",
              "4      Lainnya  Perdagangan  Lancar  "
            ],
            "text/html": [
              "\n",
              "  <div id=\"df-ee77680d-2035-49f9-98ca-e562e0b161ca\" class=\"colab-df-container\">\n",
              "    <div>\n",
              "<style scoped>\n",
              "    .dataframe tbody tr th:only-of-type {\n",
              "        vertical-align: middle;\n",
              "    }\n",
              "\n",
              "    .dataframe tbody tr th {\n",
              "        vertical-align: top;\n",
              "    }\n",
              "\n",
              "    .dataframe thead th {\n",
              "        text-align: right;\n",
              "    }\n",
              "</style>\n",
              "<table border=\"1\" class=\"dataframe\">\n",
              "  <thead>\n",
              "    <tr style=\"text-align: right;\">\n",
              "      <th></th>\n",
              "      <th>ID</th>\n",
              "      <th>Usia</th>\n",
              "      <th>Gender</th>\n",
              "      <th>Pinjaman</th>\n",
              "      <th>AsetUsaha</th>\n",
              "      <th>omsetperbulan</th>\n",
              "      <th>JenisPeminjam</th>\n",
              "      <th>Wilayah</th>\n",
              "      <th>JenisUsaha</th>\n",
              "      <th>Status</th>\n",
              "    </tr>\n",
              "  </thead>\n",
              "  <tbody>\n",
              "    <tr>\n",
              "      <th>0</th>\n",
              "      <td>A01001</td>\n",
              "      <td>48</td>\n",
              "      <td>Laki-laki</td>\n",
              "      <td>20000000</td>\n",
              "      <td>12000000</td>\n",
              "      <td>18000000</td>\n",
              "      <td>Individual</td>\n",
              "      <td>DKI Jakarta</td>\n",
              "      <td>Perdagangan</td>\n",
              "      <td>Lancar</td>\n",
              "    </tr>\n",
              "    <tr>\n",
              "      <th>1</th>\n",
              "      <td>A01002</td>\n",
              "      <td>54</td>\n",
              "      <td>Perempuan</td>\n",
              "      <td>15000000</td>\n",
              "      <td>11000000</td>\n",
              "      <td>15000000</td>\n",
              "      <td>Individual</td>\n",
              "      <td>DKI Jakarta</td>\n",
              "      <td>Perdagangan</td>\n",
              "      <td>Lancar</td>\n",
              "    </tr>\n",
              "    <tr>\n",
              "      <th>2</th>\n",
              "      <td>A01003</td>\n",
              "      <td>43</td>\n",
              "      <td>Laki-laki</td>\n",
              "      <td>25000000</td>\n",
              "      <td>40500000</td>\n",
              "      <td>45000000</td>\n",
              "      <td>Kelompok</td>\n",
              "      <td>DKI Jakarta</td>\n",
              "      <td>Perdagangan</td>\n",
              "      <td>Lancar</td>\n",
              "    </tr>\n",
              "    <tr>\n",
              "      <th>3</th>\n",
              "      <td>A01004</td>\n",
              "      <td>51</td>\n",
              "      <td>Laki-laki</td>\n",
              "      <td>10000000</td>\n",
              "      <td>22500000</td>\n",
              "      <td>30000000</td>\n",
              "      <td>Individual</td>\n",
              "      <td>DKI Jakarta</td>\n",
              "      <td>Perdagangan</td>\n",
              "      <td>Lancar</td>\n",
              "    </tr>\n",
              "    <tr>\n",
              "      <th>4</th>\n",
              "      <td>A01005</td>\n",
              "      <td>23</td>\n",
              "      <td>Perempuan</td>\n",
              "      <td>30000000</td>\n",
              "      <td>6000000</td>\n",
              "      <td>12500000</td>\n",
              "      <td>Kelompok</td>\n",
              "      <td>Lainnya</td>\n",
              "      <td>Perdagangan</td>\n",
              "      <td>Lancar</td>\n",
              "    </tr>\n",
              "  </tbody>\n",
              "</table>\n",
              "</div>\n",
              "    <div class=\"colab-df-buttons\">\n",
              "\n",
              "  <div class=\"colab-df-container\">\n",
              "    <button class=\"colab-df-convert\" onclick=\"convertToInteractive('df-ee77680d-2035-49f9-98ca-e562e0b161ca')\"\n",
              "            title=\"Convert this dataframe to an interactive table.\"\n",
              "            style=\"display:none;\">\n",
              "\n",
              "  <svg xmlns=\"http://www.w3.org/2000/svg\" height=\"24px\" viewBox=\"0 -960 960 960\">\n",
              "    <path d=\"M120-120v-720h720v720H120Zm60-500h600v-160H180v160Zm220 220h160v-160H400v160Zm0 220h160v-160H400v160ZM180-400h160v-160H180v160Zm440 0h160v-160H620v160ZM180-180h160v-160H180v160Zm440 0h160v-160H620v160Z\"/>\n",
              "  </svg>\n",
              "    </button>\n",
              "\n",
              "  <style>\n",
              "    .colab-df-container {\n",
              "      display:flex;\n",
              "      gap: 12px;\n",
              "    }\n",
              "\n",
              "    .colab-df-convert {\n",
              "      background-color: #E8F0FE;\n",
              "      border: none;\n",
              "      border-radius: 50%;\n",
              "      cursor: pointer;\n",
              "      display: none;\n",
              "      fill: #1967D2;\n",
              "      height: 32px;\n",
              "      padding: 0 0 0 0;\n",
              "      width: 32px;\n",
              "    }\n",
              "\n",
              "    .colab-df-convert:hover {\n",
              "      background-color: #E2EBFA;\n",
              "      box-shadow: 0px 1px 2px rgba(60, 64, 67, 0.3), 0px 1px 3px 1px rgba(60, 64, 67, 0.15);\n",
              "      fill: #174EA6;\n",
              "    }\n",
              "\n",
              "    .colab-df-buttons div {\n",
              "      margin-bottom: 4px;\n",
              "    }\n",
              "\n",
              "    [theme=dark] .colab-df-convert {\n",
              "      background-color: #3B4455;\n",
              "      fill: #D2E3FC;\n",
              "    }\n",
              "\n",
              "    [theme=dark] .colab-df-convert:hover {\n",
              "      background-color: #434B5C;\n",
              "      box-shadow: 0px 1px 3px 1px rgba(0, 0, 0, 0.15);\n",
              "      filter: drop-shadow(0px 1px 2px rgba(0, 0, 0, 0.3));\n",
              "      fill: #FFFFFF;\n",
              "    }\n",
              "  </style>\n",
              "\n",
              "    <script>\n",
              "      const buttonEl =\n",
              "        document.querySelector('#df-ee77680d-2035-49f9-98ca-e562e0b161ca button.colab-df-convert');\n",
              "      buttonEl.style.display =\n",
              "        google.colab.kernel.accessAllowed ? 'block' : 'none';\n",
              "\n",
              "      async function convertToInteractive(key) {\n",
              "        const element = document.querySelector('#df-ee77680d-2035-49f9-98ca-e562e0b161ca');\n",
              "        const dataTable =\n",
              "          await google.colab.kernel.invokeFunction('convertToInteractive',\n",
              "                                                    [key], {});\n",
              "        if (!dataTable) return;\n",
              "\n",
              "        const docLinkHtml = 'Like what you see? Visit the ' +\n",
              "          '<a target=\"_blank\" href=https://colab.research.google.com/notebooks/data_table.ipynb>data table notebook</a>'\n",
              "          + ' to learn more about interactive tables.';\n",
              "        element.innerHTML = '';\n",
              "        dataTable['output_type'] = 'display_data';\n",
              "        await google.colab.output.renderOutput(dataTable, element);\n",
              "        const docLink = document.createElement('div');\n",
              "        docLink.innerHTML = docLinkHtml;\n",
              "        element.appendChild(docLink);\n",
              "      }\n",
              "    </script>\n",
              "  </div>\n",
              "\n",
              "\n",
              "<div id=\"df-f7588797-8cf1-4bfa-b4aa-3c9cad49b408\">\n",
              "  <button class=\"colab-df-quickchart\" onclick=\"quickchart('df-f7588797-8cf1-4bfa-b4aa-3c9cad49b408')\"\n",
              "            title=\"Suggest charts\"\n",
              "            style=\"display:none;\">\n",
              "\n",
              "<svg xmlns=\"http://www.w3.org/2000/svg\" height=\"24px\"viewBox=\"0 0 24 24\"\n",
              "     width=\"24px\">\n",
              "    <g>\n",
              "        <path d=\"M19 3H5c-1.1 0-2 .9-2 2v14c0 1.1.9 2 2 2h14c1.1 0 2-.9 2-2V5c0-1.1-.9-2-2-2zM9 17H7v-7h2v7zm4 0h-2V7h2v10zm4 0h-2v-4h2v4z\"/>\n",
              "    </g>\n",
              "</svg>\n",
              "  </button>\n",
              "\n",
              "<style>\n",
              "  .colab-df-quickchart {\n",
              "      --bg-color: #E8F0FE;\n",
              "      --fill-color: #1967D2;\n",
              "      --hover-bg-color: #E2EBFA;\n",
              "      --hover-fill-color: #174EA6;\n",
              "      --disabled-fill-color: #AAA;\n",
              "      --disabled-bg-color: #DDD;\n",
              "  }\n",
              "\n",
              "  [theme=dark] .colab-df-quickchart {\n",
              "      --bg-color: #3B4455;\n",
              "      --fill-color: #D2E3FC;\n",
              "      --hover-bg-color: #434B5C;\n",
              "      --hover-fill-color: #FFFFFF;\n",
              "      --disabled-bg-color: #3B4455;\n",
              "      --disabled-fill-color: #666;\n",
              "  }\n",
              "\n",
              "  .colab-df-quickchart {\n",
              "    background-color: var(--bg-color);\n",
              "    border: none;\n",
              "    border-radius: 50%;\n",
              "    cursor: pointer;\n",
              "    display: none;\n",
              "    fill: var(--fill-color);\n",
              "    height: 32px;\n",
              "    padding: 0;\n",
              "    width: 32px;\n",
              "  }\n",
              "\n",
              "  .colab-df-quickchart:hover {\n",
              "    background-color: var(--hover-bg-color);\n",
              "    box-shadow: 0 1px 2px rgba(60, 64, 67, 0.3), 0 1px 3px 1px rgba(60, 64, 67, 0.15);\n",
              "    fill: var(--button-hover-fill-color);\n",
              "  }\n",
              "\n",
              "  .colab-df-quickchart-complete:disabled,\n",
              "  .colab-df-quickchart-complete:disabled:hover {\n",
              "    background-color: var(--disabled-bg-color);\n",
              "    fill: var(--disabled-fill-color);\n",
              "    box-shadow: none;\n",
              "  }\n",
              "\n",
              "  .colab-df-spinner {\n",
              "    border: 2px solid var(--fill-color);\n",
              "    border-color: transparent;\n",
              "    border-bottom-color: var(--fill-color);\n",
              "    animation:\n",
              "      spin 1s steps(1) infinite;\n",
              "  }\n",
              "\n",
              "  @keyframes spin {\n",
              "    0% {\n",
              "      border-color: transparent;\n",
              "      border-bottom-color: var(--fill-color);\n",
              "      border-left-color: var(--fill-color);\n",
              "    }\n",
              "    20% {\n",
              "      border-color: transparent;\n",
              "      border-left-color: var(--fill-color);\n",
              "      border-top-color: var(--fill-color);\n",
              "    }\n",
              "    30% {\n",
              "      border-color: transparent;\n",
              "      border-left-color: var(--fill-color);\n",
              "      border-top-color: var(--fill-color);\n",
              "      border-right-color: var(--fill-color);\n",
              "    }\n",
              "    40% {\n",
              "      border-color: transparent;\n",
              "      border-right-color: var(--fill-color);\n",
              "      border-top-color: var(--fill-color);\n",
              "    }\n",
              "    60% {\n",
              "      border-color: transparent;\n",
              "      border-right-color: var(--fill-color);\n",
              "    }\n",
              "    80% {\n",
              "      border-color: transparent;\n",
              "      border-right-color: var(--fill-color);\n",
              "      border-bottom-color: var(--fill-color);\n",
              "    }\n",
              "    90% {\n",
              "      border-color: transparent;\n",
              "      border-bottom-color: var(--fill-color);\n",
              "    }\n",
              "  }\n",
              "</style>\n",
              "\n",
              "  <script>\n",
              "    async function quickchart(key) {\n",
              "      const quickchartButtonEl =\n",
              "        document.querySelector('#' + key + ' button');\n",
              "      quickchartButtonEl.disabled = true;  // To prevent multiple clicks.\n",
              "      quickchartButtonEl.classList.add('colab-df-spinner');\n",
              "      try {\n",
              "        const charts = await google.colab.kernel.invokeFunction(\n",
              "            'suggestCharts', [key], {});\n",
              "      } catch (error) {\n",
              "        console.error('Error during call to suggestCharts:', error);\n",
              "      }\n",
              "      quickchartButtonEl.classList.remove('colab-df-spinner');\n",
              "      quickchartButtonEl.classList.add('colab-df-quickchart-complete');\n",
              "    }\n",
              "    (() => {\n",
              "      let quickchartButtonEl =\n",
              "        document.querySelector('#df-f7588797-8cf1-4bfa-b4aa-3c9cad49b408 button');\n",
              "      quickchartButtonEl.style.display =\n",
              "        google.colab.kernel.accessAllowed ? 'block' : 'none';\n",
              "    })();\n",
              "  </script>\n",
              "</div>\n",
              "    </div>\n",
              "  </div>\n"
            ]
          },
          "metadata": {},
          "execution_count": 129
        }
      ]
    },
    {
      "cell_type": "code",
      "source": [
        "data.info()"
      ],
      "metadata": {
        "colab": {
          "base_uri": "https://localhost:8080/"
        },
        "id": "4ci1pNv_a-b-",
        "outputId": "665b244c-c520-4fcf-f53f-e9c011f7cf8b"
      },
      "execution_count": null,
      "outputs": [
        {
          "output_type": "stream",
          "name": "stdout",
          "text": [
            "<class 'pandas.core.frame.DataFrame'>\n",
            "RangeIndex: 521 entries, 0 to 520\n",
            "Data columns (total 10 columns):\n",
            " #   Column         Non-Null Count  Dtype \n",
            "---  ------         --------------  ----- \n",
            " 0   ID             521 non-null    object\n",
            " 1   Usia           521 non-null    int64 \n",
            " 2   Gender         521 non-null    object\n",
            " 3   Pinjaman       521 non-null    int64 \n",
            " 4   AsetUsaha      521 non-null    int64 \n",
            " 5   omsetperbulan  521 non-null    int64 \n",
            " 6   JenisPeminjam  521 non-null    object\n",
            " 7   Wilayah        521 non-null    object\n",
            " 8   JenisUsaha     521 non-null    object\n",
            " 9   Status         521 non-null    object\n",
            "dtypes: int64(4), object(6)\n",
            "memory usage: 40.8+ KB\n"
          ]
        }
      ]
    },
    {
      "cell_type": "code",
      "source": [
        "data['Status'].value_counts()"
      ],
      "metadata": {
        "colab": {
          "base_uri": "https://localhost:8080/"
        },
        "id": "EvUR7RCCbG0F",
        "outputId": "fd2b091d-8942-49ad-dea0-a5c76290b22d"
      },
      "execution_count": null,
      "outputs": [
        {
          "output_type": "execute_result",
          "data": {
            "text/plain": [
              "Lancar    300\n",
              "Macet     221\n",
              "Name: Status, dtype: int64"
            ]
          },
          "metadata": {},
          "execution_count": 131
        }
      ]
    },
    {
      "cell_type": "code",
      "source": [
        "pd.crosstab(data['Gender'],data['Status'], normalize='index').plot.bar(rot=0, stacked=True, color=['b','r'])\n",
        "plt.legend(loc='upper right')\n",
        "plt.ylabel('Proportion')\n",
        "plt.title('Gender vs Status')\n",
        "plt.show()"
      ],
      "metadata": {
        "colab": {
          "base_uri": "https://localhost:8080/",
          "height": 472
        },
        "id": "40UxiNWgbLO5",
        "outputId": "20c27b1f-8a4c-49db-a78a-b8329134f7db"
      },
      "execution_count": null,
      "outputs": [
        {
          "output_type": "display_data",
          "data": {
            "text/plain": [
              "<Figure size 640x480 with 1 Axes>"
            ],
            "image/png": "[encoded data removed]"
          },
          "metadata": {}
        }
      ]
    },
    {
      "cell_type": "code",
      "source": [
        "pd.crosstab(data['JenisPeminjam'],data['Status'], normalize='index').plot.bar(rot=0, stacked=True, color=['b','r'])\n",
        "plt.legend(loc='upper right')\n",
        "plt.ylabel('Proportion')\n",
        "plt.title('Jenis Peminjam vs Status')\n",
        "plt.show()"
      ],
      "metadata": {
        "colab": {
          "base_uri": "https://localhost:8080/",
          "height": 472
        },
        "id": "adAQvbS5buaL",
        "outputId": "b4cdd9a6-eb70-48a3-dd58-96f7ca981951"
      },
      "execution_count": null,
      "outputs": [
        {
          "output_type": "display_data",
          "data": {
            "text/plain": [
              "<Figure size 640x480 with 1 Axes>"
            ],
            "image/png": "[encoded data removed]"
          },
          "metadata": {}
        }
      ]
    },
    {
      "cell_type": "code",
      "source": [
        "pd.crosstab(data['JenisUsaha'],data['Status'], normalize='index').plot.bar(rot=0, stacked=True, color=['b','r'])\n",
        "plt.legend(loc='upper right')\n",
        "plt.ylabel('Proportion')\n",
        "plt.title('Jenis Usaha vs Status')\n",
        "plt.show()"
      ],
      "metadata": {
        "colab": {
          "base_uri": "https://localhost:8080/",
          "height": 472
        },
        "id": "7oc_BZItb7GL",
        "outputId": "a7f72424-c67b-4eb8-fbe5-522ac32b795a"
      },
      "execution_count": null,
      "outputs": [
        {
          "output_type": "display_data",
          "data": {
            "text/plain": [
              "<Figure size 640x480 with 1 Axes>"
            ],
            "image/png": "[encoded data removed]"
          },
          "metadata": {}
        }
      ]
    },
    {
      "cell_type": "code",
      "source": [
        "pd.crosstab(data['Wilayah'],data['Status'], normalize='index').plot.bar(rot=0, stacked=True, color=['b','r'])\n",
        "plt.legend(loc='upper right')\n",
        "plt.ylabel('Proportion')\n",
        "plt.title('Wilayah vs Status')\n",
        "plt.show()"
      ],
      "metadata": {
        "colab": {
          "base_uri": "https://localhost:8080/",
          "height": 472
        },
        "id": "QeqnKlAIcN1p",
        "outputId": "eee8c1b0-b630-45fb-8401-624c53ef1cfb"
      },
      "execution_count": null,
      "outputs": [
        {
          "output_type": "display_data",
          "data": {
            "text/plain": [
              "<Figure size 640x480 with 1 Axes>"
            ],
            "image/png": "[encoded data removed]"
          },
          "metadata": {}
        }
      ]
    },
    {
      "cell_type": "code",
      "source": [
        "# Transformasi Data\n",
        "data2 = pd.get_dummies(data, columns = ['Gender','JenisPeminjam','Wilayah','JenisUsaha'], drop_first = True)\n",
        "data2.head()"
      ],
      "metadata": {
        "colab": {
          "base_uri": "https://localhost:8080/",
          "height": 244
        },
        "id": "szj8HR8dsQ13",
        "outputId": "dd79a1e0-98e6-4914-b0d9-47ee5abd38a4"
      },
      "execution_count": null,
      "outputs": [
        {
          "output_type": "execute_result",
          "data": {
            "text/plain": [
              "       ID  Usia  Pinjaman  AsetUsaha  omsetperbulan  Status  Gender_Perempuan  \\\n",
              "0  A01001    48  20000000   12000000       18000000  Lancar                 0   \n",
              "1  A01002    54  15000000   11000000       15000000  Lancar                 1   \n",
              "2  A01003    43  25000000   40500000       45000000  Lancar                 0   \n",
              "3  A01004    51  10000000   22500000       30000000  Lancar                 0   \n",
              "4  A01005    23  30000000    6000000       12500000  Lancar                 1   \n",
              "\n",
              "   JenisPeminjam_Kelompok  Wilayah_Jawa Barat  Wilayah_Lainnya  \\\n",
              "0                       0                   0                0   \n",
              "1                       0                   0                0   \n",
              "2                       1                   0                0   \n",
              "3                       0                   0                0   \n",
              "4                       1                   0                1   \n",
              "\n",
              "   JenisUsaha_Lainnya  JenisUsaha_Perdagangan  \n",
              "0                   0                       1  \n",
              "1                   0                       1  \n",
              "2                   0                       1  \n",
              "3                   0                       1  \n",
              "4                   0                       1  "
            ],
            "text/html": [
              "\n",
              "  <div id=\"df-5919bcac-4f92-4b6c-ad26-018e5df942bb\" class=\"colab-df-container\">\n",
              "    <div>\n",
              "<style scoped>\n",
              "    .dataframe tbody tr th:only-of-type {\n",
              "        vertical-align: middle;\n",
              "    }\n",
              "\n",
              "    .dataframe tbody tr th {\n",
              "        vertical-align: top;\n",
              "    }\n",
              "\n",
              "    .dataframe thead th {\n",
              "        text-align: right;\n",
              "    }\n",
              "</style>\n",
              "<table border=\"1\" class=\"dataframe\">\n",
              "  <thead>\n",
              "    <tr style=\"text-align: right;\">\n",
              "      <th></th>\n",
              "      <th>ID</th>\n",
              "      <th>Usia</th>\n",
              "      <th>Pinjaman</th>\n",
              "      <th>AsetUsaha</th>\n",
              "      <th>omsetperbulan</th>\n",
              "      <th>Status</th>\n",
              "      <th>Gender_Perempuan</th>\n",
              "      <th>JenisPeminjam_Kelompok</th>\n",
              "      <th>Wilayah_Jawa Barat</th>\n",
              "      <th>Wilayah_Lainnya</th>\n",
              "      <th>JenisUsaha_Lainnya</th>\n",
              "      <th>JenisUsaha_Perdagangan</th>\n",
              "    </tr>\n",
              "  </thead>\n",
              "  <tbody>\n",
              "    <tr>\n",
              "      <th>0</th>\n",
              "      <td>A01001</td>\n",
              "      <td>48</td>\n",
              "      <td>20000000</td>\n",
              "      <td>12000000</td>\n",
              "      <td>18000000</td>\n",
              "      <td>Lancar</td>\n",
              "      <td>0</td>\n",
              "      <td>0</td>\n",
              "      <td>0</td>\n",
              "      <td>0</td>\n",
              "      <td>0</td>\n",
              "      <td>1</td>\n",
              "    </tr>\n",
              "    <tr>\n",
              "      <th>1</th>\n",
              "      <td>A01002</td>\n",
              "      <td>54</td>\n",
              "      <td>15000000</td>\n",
              "      <td>11000000</td>\n",
              "      <td>15000000</td>\n",
              "      <td>Lancar</td>\n",
              "      <td>1</td>\n",
              "      <td>0</td>\n",
              "      <td>0</td>\n",
              "      <td>0</td>\n",
              "      <td>0</td>\n",
              "      <td>1</td>\n",
              "    </tr>\n",
              "    <tr>\n",
              "      <th>2</th>\n",
              "      <td>A01003</td>\n",
              "      <td>43</td>\n",
              "      <td>25000000</td>\n",
              "      <td>40500000</td>\n",
              "      <td>45000000</td>\n",
              "      <td>Lancar</td>\n",
              "      <td>0</td>\n",
              "      <td>1</td>\n",
              "      <td>0</td>\n",
              "      <td>0</td>\n",
              "      <td>0</td>\n",
              "      <td>1</td>\n",
              "    </tr>\n",
              "    <tr>\n",
              "      <th>3</th>\n",
              "      <td>A01004</td>\n",
              "      <td>51</td>\n",
              "      <td>10000000</td>\n",
              "      <td>22500000</td>\n",
              "      <td>30000000</td>\n",
              "      <td>Lancar</td>\n",
              "      <td>0</td>\n",
              "      <td>0</td>\n",
              "      <td>0</td>\n",
              "      <td>0</td>\n",
              "      <td>0</td>\n",
              "      <td>1</td>\n",
              "    </tr>\n",
              "    <tr>\n",
              "      <th>4</th>\n",
              "      <td>A01005</td>\n",
              "      <td>23</td>\n",
              "      <td>30000000</td>\n",
              "      <td>6000000</td>\n",
              "      <td>12500000</td>\n",
              "      <td>Lancar</td>\n",
              "      <td>1</td>\n",
              "      <td>1</td>\n",
              "      <td>0</td>\n",
              "      <td>1</td>\n",
              "      <td>0</td>\n",
              "      <td>1</td>\n",
              "    </tr>\n",
              "  </tbody>\n",
              "</table>\n",
              "</div>\n",
              "    <div class=\"colab-df-buttons\">\n",
              "\n",
              "  <div class=\"colab-df-container\">\n",
              "    <button class=\"colab-df-convert\" onclick=\"convertToInteractive('df-5919bcac-4f92-4b6c-ad26-018e5df942bb')\"\n",
              "            title=\"Convert this dataframe to an interactive table.\"\n",
              "            style=\"display:none;\">\n",
              "\n",
              "  <svg xmlns=\"http://www.w3.org/2000/svg\" height=\"24px\" viewBox=\"0 -960 960 960\">\n",
              "    <path d=\"M120-120v-720h720v720H120Zm60-500h600v-160H180v160Zm220 220h160v-160H400v160Zm0 220h160v-160H400v160ZM180-400h160v-160H180v160Zm440 0h160v-160H620v160ZM180-180h160v-160H180v160Zm440 0h160v-160H620v160Z\"/>\n",
              "  </svg>\n",
              "    </button>\n",
              "\n",
              "  <style>\n",
              "    .colab-df-container {\n",
              "      display:flex;\n",
              "      gap: 12px;\n",
              "    }\n",
              "\n",
              "    .colab-df-convert {\n",
              "      background-color: #E8F0FE;\n",
              "      border: none;\n",
              "      border-radius: 50%;\n",
              "      cursor: pointer;\n",
              "      display: none;\n",
              "      fill: #1967D2;\n",
              "      height: 32px;\n",
              "      padding: 0 0 0 0;\n",
              "      width: 32px;\n",
              "    }\n",
              "\n",
              "    .colab-df-convert:hover {\n",
              "      background-color: #E2EBFA;\n",
              "      box-shadow: 0px 1px 2px rgba(60, 64, 67, 0.3), 0px 1px 3px 1px rgba(60, 64, 67, 0.15);\n",
              "      fill: #174EA6;\n",
              "    }\n",
              "\n",
              "    .colab-df-buttons div {\n",
              "      margin-bottom: 4px;\n",
              "    }\n",
              "\n",
              "    [theme=dark] .colab-df-convert {\n",
              "      background-color: #3B4455;\n",
              "      fill: #D2E3FC;\n",
              "    }\n",
              "\n",
              "    [theme=dark] .colab-df-convert:hover {\n",
              "      background-color: #434B5C;\n",
              "      box-shadow: 0px 1px 3px 1px rgba(0, 0, 0, 0.15);\n",
              "      filter: drop-shadow(0px 1px 2px rgba(0, 0, 0, 0.3));\n",
              "      fill: #FFFFFF;\n",
              "    }\n",
              "  </style>\n",
              "\n",
              "    <script>\n",
              "      const buttonEl =\n",
              "        document.querySelector('#df-5919bcac-4f92-4b6c-ad26-018e5df942bb button.colab-df-convert');\n",
              "      buttonEl.style.display =\n",
              "        google.colab.kernel.accessAllowed ? 'block' : 'none';\n",
              "\n",
              "      async function convertToInteractive(key) {\n",
              "        const element = document.querySelector('#df-5919bcac-4f92-4b6c-ad26-018e5df942bb');\n",
              "        const dataTable =\n",
              "          await google.colab.kernel.invokeFunction('convertToInteractive',\n",
              "                                                    [key], {});\n",
              "        if (!dataTable) return;\n",
              "\n",
              "        const docLinkHtml = 'Like what you see? Visit the ' +\n",
              "          '<a target=\"_blank\" href=https://colab.research.google.com/notebooks/data_table.ipynb>data table notebook</a>'\n",
              "          + ' to learn more about interactive tables.';\n",
              "        element.innerHTML = '';\n",
              "        dataTable['output_type'] = 'display_data';\n",
              "        await google.colab.output.renderOutput(dataTable, element);\n",
              "        const docLink = document.createElement('div');\n",
              "        docLink.innerHTML = docLinkHtml;\n",
              "        element.appendChild(docLink);\n",
              "      }\n",
              "    </script>\n",
              "  </div>\n",
              "\n",
              "\n",
              "<div id=\"df-b82af23d-8c4f-4246-b73d-39b8700035e2\">\n",
              "  <button class=\"colab-df-quickchart\" onclick=\"quickchart('df-b82af23d-8c4f-4246-b73d-39b8700035e2')\"\n",
              "            title=\"Suggest charts\"\n",
              "            style=\"display:none;\">\n",
              "\n",
              "<svg xmlns=\"http://www.w3.org/2000/svg\" height=\"24px\"viewBox=\"0 0 24 24\"\n",
              "     width=\"24px\">\n",
              "    <g>\n",
              "        <path d=\"M19 3H5c-1.1 0-2 .9-2 2v14c0 1.1.9 2 2 2h14c1.1 0 2-.9 2-2V5c0-1.1-.9-2-2-2zM9 17H7v-7h2v7zm4 0h-2V7h2v10zm4 0h-2v-4h2v4z\"/>\n",
              "    </g>\n",
              "</svg>\n",
              "  </button>\n",
              "\n",
              "<style>\n",
              "  .colab-df-quickchart {\n",
              "      --bg-color: #E8F0FE;\n",
              "      --fill-color: #1967D2;\n",
              "      --hover-bg-color: #E2EBFA;\n",
              "      --hover-fill-color: #174EA6;\n",
              "      --disabled-fill-color: #AAA;\n",
              "      --disabled-bg-color: #DDD;\n",
              "  }\n",
              "\n",
              "  [theme=dark] .colab-df-quickchart {\n",
              "      --bg-color: #3B4455;\n",
              "      --fill-color: #D2E3FC;\n",
              "      --hover-bg-color: #434B5C;\n",
              "      --hover-fill-color: #FFFFFF;\n",
              "      --disabled-bg-color: #3B4455;\n",
              "      --disabled-fill-color: #666;\n",
              "  }\n",
              "\n",
              "  .colab-df-quickchart {\n",
              "    background-color: var(--bg-color);\n",
              "    border: none;\n",
              "    border-radius: 50%;\n",
              "    cursor: pointer;\n",
              "    display: none;\n",
              "    fill: var(--fill-color);\n",
              "    height: 32px;\n",
              "    padding: 0;\n",
              "    width: 32px;\n",
              "  }\n",
              "\n",
              "  .colab-df-quickchart:hover {\n",
              "    background-color: var(--hover-bg-color);\n",
              "    box-shadow: 0 1px 2px rgba(60, 64, 67, 0.3), 0 1px 3px 1px rgba(60, 64, 67, 0.15);\n",
              "    fill: var(--button-hover-fill-color);\n",
              "  }\n",
              "\n",
              "  .colab-df-quickchart-complete:disabled,\n",
              "  .colab-df-quickchart-complete:disabled:hover {\n",
              "    background-color: var(--disabled-bg-color);\n",
              "    fill: var(--disabled-fill-color);\n",
              "    box-shadow: none;\n",
              "  }\n",
              "\n",
              "  .colab-df-spinner {\n",
              "    border: 2px solid var(--fill-color);\n",
              "    border-color: transparent;\n",
              "    border-bottom-color: var(--fill-color);\n",
              "    animation:\n",
              "      spin 1s steps(1) infinite;\n",
              "  }\n",
              "\n",
              "  @keyframes spin {\n",
              "    0% {\n",
              "      border-color: transparent;\n",
              "      border-bottom-color: var(--fill-color);\n",
              "      border-left-color: var(--fill-color);\n",
              "    }\n",
              "    20% {\n",
              "      border-color: transparent;\n",
              "      border-left-color: var(--fill-color);\n",
              "      border-top-color: var(--fill-color);\n",
              "    }\n",
              "    30% {\n",
              "      border-color: transparent;\n",
              "      border-left-color: var(--fill-color);\n",
              "      border-top-color: var(--fill-color);\n",
              "      border-right-color: var(--fill-color);\n",
              "    }\n",
              "    40% {\n",
              "      border-color: transparent;\n",
              "      border-right-color: var(--fill-color);\n",
              "      border-top-color: var(--fill-color);\n",
              "    }\n",
              "    60% {\n",
              "      border-color: transparent;\n",
              "      border-right-color: var(--fill-color);\n",
              "    }\n",
              "    80% {\n",
              "      border-color: transparent;\n",
              "      border-right-color: var(--fill-color);\n",
              "      border-bottom-color: var(--fill-color);\n",
              "    }\n",
              "    90% {\n",
              "      border-color: transparent;\n",
              "      border-bottom-color: var(--fill-color);\n",
              "    }\n",
              "  }\n",
              "</style>\n",
              "\n",
              "  <script>\n",
              "    async function quickchart(key) {\n",
              "      const quickchartButtonEl =\n",
              "        document.querySelector('#' + key + ' button');\n",
              "      quickchartButtonEl.disabled = true;  // To prevent multiple clicks.\n",
              "      quickchartButtonEl.classList.add('colab-df-spinner');\n",
              "      try {\n",
              "        const charts = await google.colab.kernel.invokeFunction(\n",
              "            'suggestCharts', [key], {});\n",
              "      } catch (error) {\n",
              "        console.error('Error during call to suggestCharts:', error);\n",
              "      }\n",
              "      quickchartButtonEl.classList.remove('colab-df-spinner');\n",
              "      quickchartButtonEl.classList.add('colab-df-quickchart-complete');\n",
              "    }\n",
              "    (() => {\n",
              "      let quickchartButtonEl =\n",
              "        document.querySelector('#df-b82af23d-8c4f-4246-b73d-39b8700035e2 button');\n",
              "      quickchartButtonEl.style.display =\n",
              "        google.colab.kernel.accessAllowed ? 'block' : 'none';\n",
              "    })();\n",
              "  </script>\n",
              "</div>\n",
              "    </div>\n",
              "  </div>\n"
            ]
          },
          "metadata": {},
          "execution_count": 136
        }
      ]
    },
    {
      "cell_type": "code",
      "source": [
        "X = data2.iloc[:, [col for col in range(1, 12) if col not in [0, 5]]]\n",
        "X.head()"
      ],
      "metadata": {
        "colab": {
          "base_uri": "https://localhost:8080/",
          "height": 244
        },
        "id": "8MOg7uuusq_Z",
        "outputId": "db2b5673-05d6-4627-fcd3-046e340cc42e"
      },
      "execution_count": null,
      "outputs": [
        {
          "output_type": "execute_result",
          "data": {
            "text/plain": [
              "   Usia  Pinjaman  AsetUsaha  omsetperbulan  Gender_Perempuan  \\\n",
              "0    48  20000000   12000000       18000000                 0   \n",
              "1    54  15000000   11000000       15000000                 1   \n",
              "2    43  25000000   40500000       45000000                 0   \n",
              "3    51  10000000   22500000       30000000                 0   \n",
              "4    23  30000000    6000000       12500000                 1   \n",
              "\n",
              "   JenisPeminjam_Kelompok  Wilayah_Jawa Barat  Wilayah_Lainnya  \\\n",
              "0                       0                   0                0   \n",
              "1                       0                   0                0   \n",
              "2                       1                   0                0   \n",
              "3                       0                   0                0   \n",
              "4                       1                   0                1   \n",
              "\n",
              "   JenisUsaha_Lainnya  JenisUsaha_Perdagangan  \n",
              "0                   0                       1  \n",
              "1                   0                       1  \n",
              "2                   0                       1  \n",
              "3                   0                       1  \n",
              "4                   0                       1  "
            ],
            "text/html": [
              "\n",
              "  <div id=\"df-833bc7b2-967b-4e03-b901-e17d292bfe29\" class=\"colab-df-container\">\n",
              "    <div>\n",
              "<style scoped>\n",
              "    .dataframe tbody tr th:only-of-type {\n",
              "        vertical-align: middle;\n",
              "    }\n",
              "\n",
              "    .dataframe tbody tr th {\n",
              "        vertical-align: top;\n",
              "    }\n",
              "\n",
              "    .dataframe thead th {\n",
              "        text-align: right;\n",
              "    }\n",
              "</style>\n",
              "<table border=\"1\" class=\"dataframe\">\n",
              "  <thead>\n",
              "    <tr style=\"text-align: right;\">\n",
              "      <th></th>\n",
              "      <th>Usia</th>\n",
              "      <th>Pinjaman</th>\n",
              "      <th>AsetUsaha</th>\n",
              "      <th>omsetperbulan</th>\n",
              "      <th>Gender_Perempuan</th>\n",
              "      <th>JenisPeminjam_Kelompok</th>\n",
              "      <th>Wilayah_Jawa Barat</th>\n",
              "      <th>Wilayah_Lainnya</th>\n",
              "      <th>JenisUsaha_Lainnya</th>\n",
              "      <th>JenisUsaha_Perdagangan</th>\n",
              "    </tr>\n",
              "  </thead>\n",
              "  <tbody>\n",
              "    <tr>\n",
              "      <th>0</th>\n",
              "      <td>48</td>\n",
              "      <td>20000000</td>\n",
              "      <td>12000000</td>\n",
              "      <td>18000000</td>\n",
              "      <td>0</td>\n",
              "      <td>0</td>\n",
              "      <td>0</td>\n",
              "      <td>0</td>\n",
              "      <td>0</td>\n",
              "      <td>1</td>\n",
              "    </tr>\n",
              "    <tr>\n",
              "      <th>1</th>\n",
              "      <td>54</td>\n",
              "      <td>15000000</td>\n",
              "      <td>11000000</td>\n",
              "      <td>15000000</td>\n",
              "      <td>1</td>\n",
              "      <td>0</td>\n",
              "      <td>0</td>\n",
              "      <td>0</td>\n",
              "      <td>0</td>\n",
              "      <td>1</td>\n",
              "    </tr>\n",
              "    <tr>\n",
              "      <th>2</th>\n",
              "      <td>43</td>\n",
              "      <td>25000000</td>\n",
              "      <td>40500000</td>\n",
              "      <td>45000000</td>\n",
              "      <td>0</td>\n",
              "      <td>1</td>\n",
              "      <td>0</td>\n",
              "      <td>0</td>\n",
              "      <td>0</td>\n",
              "      <td>1</td>\n",
              "    </tr>\n",
              "    <tr>\n",
              "      <th>3</th>\n",
              "      <td>51</td>\n",
              "      <td>10000000</td>\n",
              "      <td>22500000</td>\n",
              "      <td>30000000</td>\n",
              "      <td>0</td>\n",
              "      <td>0</td>\n",
              "      <td>0</td>\n",
              "      <td>0</td>\n",
              "      <td>0</td>\n",
              "      <td>1</td>\n",
              "    </tr>\n",
              "    <tr>\n",
              "      <th>4</th>\n",
              "      <td>23</td>\n",
              "      <td>30000000</td>\n",
              "      <td>6000000</td>\n",
              "      <td>12500000</td>\n",
              "      <td>1</td>\n",
              "      <td>1</td>\n",
              "      <td>0</td>\n",
              "      <td>1</td>\n",
              "      <td>0</td>\n",
              "      <td>1</td>\n",
              "    </tr>\n",
              "  </tbody>\n",
              "</table>\n",
              "</div>\n",
              "    <div class=\"colab-df-buttons\">\n",
              "\n",
              "  <div class=\"colab-df-container\">\n",
              "    <button class=\"colab-df-convert\" onclick=\"convertToInteractive('df-833bc7b2-967b-4e03-b901-e17d292bfe29')\"\n",
              "            title=\"Convert this dataframe to an interactive table.\"\n",
              "            style=\"display:none;\">\n",
              "\n",
              "  <svg xmlns=\"http://www.w3.org/2000/svg\" height=\"24px\" viewBox=\"0 -960 960 960\">\n",
              "    <path d=\"M120-120v-720h720v720H120Zm60-500h600v-160H180v160Zm220 220h160v-160H400v160Zm0 220h160v-160H400v160ZM180-400h160v-160H180v160Zm440 0h160v-160H620v160ZM180-180h160v-160H180v160Zm440 0h160v-160H620v160Z\"/>\n",
              "  </svg>\n",
              "    </button>\n",
              "\n",
              "  <style>\n",
              "    .colab-df-container {\n",
              "      display:flex;\n",
              "      gap: 12px;\n",
              "    }\n",
              "\n",
              "    .colab-df-convert {\n",
              "      background-color: #E8F0FE;\n",
              "      border: none;\n",
              "      border-radius: 50%;\n",
              "      cursor: pointer;\n",
              "      display: none;\n",
              "      fill: #1967D2;\n",
              "      height: 32px;\n",
              "      padding: 0 0 0 0;\n",
              "      width: 32px;\n",
              "    }\n",
              "\n",
              "    .colab-df-convert:hover {\n",
              "      background-color: #E2EBFA;\n",
              "      box-shadow: 0px 1px 2px rgba(60, 64, 67, 0.3), 0px 1px 3px 1px rgba(60, 64, 67, 0.15);\n",
              "      fill: #174EA6;\n",
              "    }\n",
              "\n",
              "    .colab-df-buttons div {\n",
              "      margin-bottom: 4px;\n",
              "    }\n",
              "\n",
              "    [theme=dark] .colab-df-convert {\n",
              "      background-color: #3B4455;\n",
              "      fill: #D2E3FC;\n",
              "    }\n",
              "\n",
              "    [theme=dark] .colab-df-convert:hover {\n",
              "      background-color: #434B5C;\n",
              "      box-shadow: 0px 1px 3px 1px rgba(0, 0, 0, 0.15);\n",
              "      filter: drop-shadow(0px 1px 2px rgba(0, 0, 0, 0.3));\n",
              "      fill: #FFFFFF;\n",
              "    }\n",
              "  </style>\n",
              "\n",
              "    <script>\n",
              "      const buttonEl =\n",
              "        document.querySelector('#df-833bc7b2-967b-4e03-b901-e17d292bfe29 button.colab-df-convert');\n",
              "      buttonEl.style.display =\n",
              "        google.colab.kernel.accessAllowed ? 'block' : 'none';\n",
              "\n",
              "      async function convertToInteractive(key) {\n",
              "        const element = document.querySelector('#df-833bc7b2-967b-4e03-b901-e17d292bfe29');\n",
              "        const dataTable =\n",
              "          await google.colab.kernel.invokeFunction('convertToInteractive',\n",
              "                                                    [key], {});\n",
              "        if (!dataTable) return;\n",
              "\n",
              "        const docLinkHtml = 'Like what you see? Visit the ' +\n",
              "          '<a target=\"_blank\" href=https://colab.research.google.com/notebooks/data_table.ipynb>data table notebook</a>'\n",
              "          + ' to learn more about interactive tables.';\n",
              "        element.innerHTML = '';\n",
              "        dataTable['output_type'] = 'display_data';\n",
              "        await google.colab.output.renderOutput(dataTable, element);\n",
              "        const docLink = document.createElement('div');\n",
              "        docLink.innerHTML = docLinkHtml;\n",
              "        element.appendChild(docLink);\n",
              "      }\n",
              "    </script>\n",
              "  </div>\n",
              "\n",
              "\n",
              "<div id=\"df-fbbb7560-d932-45df-9240-b9b1fef1ca90\">\n",
              "  <button class=\"colab-df-quickchart\" onclick=\"quickchart('df-fbbb7560-d932-45df-9240-b9b1fef1ca90')\"\n",
              "            title=\"Suggest charts\"\n",
              "            style=\"display:none;\">\n",
              "\n",
              "<svg xmlns=\"http://www.w3.org/2000/svg\" height=\"24px\"viewBox=\"0 0 24 24\"\n",
              "     width=\"24px\">\n",
              "    <g>\n",
              "        <path d=\"M19 3H5c-1.1 0-2 .9-2 2v14c0 1.1.9 2 2 2h14c1.1 0 2-.9 2-2V5c0-1.1-.9-2-2-2zM9 17H7v-7h2v7zm4 0h-2V7h2v10zm4 0h-2v-4h2v4z\"/>\n",
              "    </g>\n",
              "</svg>\n",
              "  </button>\n",
              "\n",
              "<style>\n",
              "  .colab-df-quickchart {\n",
              "      --bg-color: #E8F0FE;\n",
              "      --fill-color: #1967D2;\n",
              "      --hover-bg-color: #E2EBFA;\n",
              "      --hover-fill-color: #174EA6;\n",
              "      --disabled-fill-color: #AAA;\n",
              "      --disabled-bg-color: #DDD;\n",
              "  }\n",
              "\n",
              "  [theme=dark] .colab-df-quickchart {\n",
              "      --bg-color: #3B4455;\n",
              "      --fill-color: #D2E3FC;\n",
              "      --hover-bg-color: #434B5C;\n",
              "      --hover-fill-color: #FFFFFF;\n",
              "      --disabled-bg-color: #3B4455;\n",
              "      --disabled-fill-color: #666;\n",
              "  }\n",
              "\n",
              "  .colab-df-quickchart {\n",
              "    background-color: var(--bg-color);\n",
              "    border: none;\n",
              "    border-radius: 50%;\n",
              "    cursor: pointer;\n",
              "    display: none;\n",
              "    fill: var(--fill-color);\n",
              "    height: 32px;\n",
              "    padding: 0;\n",
              "    width: 32px;\n",
              "  }\n",
              "\n",
              "  .colab-df-quickchart:hover {\n",
              "    background-color: var(--hover-bg-color);\n",
              "    box-shadow: 0 1px 2px rgba(60, 64, 67, 0.3), 0 1px 3px 1px rgba(60, 64, 67, 0.15);\n",
              "    fill: var(--button-hover-fill-color);\n",
              "  }\n",
              "\n",
              "  .colab-df-quickchart-complete:disabled,\n",
              "  .colab-df-quickchart-complete:disabled:hover {\n",
              "    background-color: var(--disabled-bg-color);\n",
              "    fill: var(--disabled-fill-color);\n",
              "    box-shadow: none;\n",
              "  }\n",
              "\n",
              "  .colab-df-spinner {\n",
              "    border: 2px solid var(--fill-color);\n",
              "    border-color: transparent;\n",
              "    border-bottom-color: var(--fill-color);\n",
              "    animation:\n",
              "      spin 1s steps(1) infinite;\n",
              "  }\n",
              "\n",
              "  @keyframes spin {\n",
              "    0% {\n",
              "      border-color: transparent;\n",
              "      border-bottom-color: var(--fill-color);\n",
              "      border-left-color: var(--fill-color);\n",
              "    }\n",
              "    20% {\n",
              "      border-color: transparent;\n",
              "      border-left-color: var(--fill-color);\n",
              "      border-top-color: var(--fill-color);\n",
              "    }\n",
              "    30% {\n",
              "      border-color: transparent;\n",
              "      border-left-color: var(--fill-color);\n",
              "      border-top-color: var(--fill-color);\n",
              "      border-right-color: var(--fill-color);\n",
              "    }\n",
              "    40% {\n",
              "      border-color: transparent;\n",
              "      border-right-color: var(--fill-color);\n",
              "      border-top-color: var(--fill-color);\n",
              "    }\n",
              "    60% {\n",
              "      border-color: transparent;\n",
              "      border-right-color: var(--fill-color);\n",
              "    }\n",
              "    80% {\n",
              "      border-color: transparent;\n",
              "      border-right-color: var(--fill-color);\n",
              "      border-bottom-color: var(--fill-color);\n",
              "    }\n",
              "    90% {\n",
              "      border-color: transparent;\n",
              "      border-bottom-color: var(--fill-color);\n",
              "    }\n",
              "  }\n",
              "</style>\n",
              "\n",
              "  <script>\n",
              "    async function quickchart(key) {\n",
              "      const quickchartButtonEl =\n",
              "        document.querySelector('#' + key + ' button');\n",
              "      quickchartButtonEl.disabled = true;  // To prevent multiple clicks.\n",
              "      quickchartButtonEl.classList.add('colab-df-spinner');\n",
              "      try {\n",
              "        const charts = await google.colab.kernel.invokeFunction(\n",
              "            'suggestCharts', [key], {});\n",
              "      } catch (error) {\n",
              "        console.error('Error during call to suggestCharts:', error);\n",
              "      }\n",
              "      quickchartButtonEl.classList.remove('colab-df-spinner');\n",
              "      quickchartButtonEl.classList.add('colab-df-quickchart-complete');\n",
              "    }\n",
              "    (() => {\n",
              "      let quickchartButtonEl =\n",
              "        document.querySelector('#df-fbbb7560-d932-45df-9240-b9b1fef1ca90 button');\n",
              "      quickchartButtonEl.style.display =\n",
              "        google.colab.kernel.accessAllowed ? 'block' : 'none';\n",
              "    })();\n",
              "  </script>\n",
              "</div>\n",
              "    </div>\n",
              "  </div>\n"
            ]
          },
          "metadata": {},
          "execution_count": 294
        }
      ]
    },
    {
      "cell_type": "code",
      "source": [
        "Y = data2.iloc[:, 5]\n",
        "Y"
      ],
      "metadata": {
        "colab": {
          "base_uri": "https://localhost:8080/"
        },
        "id": "JwCbjk6xdMnF",
        "outputId": "557350e6-78ab-4ff8-88a6-94ee3dc900c0"
      },
      "execution_count": null,
      "outputs": [
        {
          "output_type": "execute_result",
          "data": {
            "text/plain": [
              "0      Lancar\n",
              "1      Lancar\n",
              "2      Lancar\n",
              "3      Lancar\n",
              "4      Lancar\n",
              "        ...  \n",
              "516    Lancar\n",
              "517    Lancar\n",
              "518    Lancar\n",
              "519    Lancar\n",
              "520     Macet\n",
              "Name: Status, Length: 521, dtype: object"
            ]
          },
          "metadata": {},
          "execution_count": 295
        }
      ]
    },
    {
      "cell_type": "code",
      "source": [
        "# Membagi Data menjadi 70% Training dan 30% Testing\n",
        "X_train, X_test, Y_train, Y_test = train_test_split(X, Y, test_size = 0.3, random_state = 5)"
      ],
      "metadata": {
        "id": "hDGerD7cddAQ"
      },
      "execution_count": null,
      "outputs": []
    },
    {
      "cell_type": "code",
      "source": [
        "X_test.info()"
      ],
      "metadata": {
        "colab": {
          "base_uri": "https://localhost:8080/"
        },
        "id": "azP2zjKlmqno",
        "outputId": "7f78f6f3-37a1-45a5-e7c5-80fe138ce73c"
      },
      "execution_count": null,
      "outputs": [
        {
          "output_type": "stream",
          "name": "stdout",
          "text": [
            "<class 'pandas.core.frame.DataFrame'>\n",
            "Int64Index: 157 entries, 224 to 392\n",
            "Data columns (total 10 columns):\n",
            " #   Column                  Non-Null Count  Dtype\n",
            "---  ------                  --------------  -----\n",
            " 0   Usia                    157 non-null    int64\n",
            " 1   Pinjaman                157 non-null    int64\n",
            " 2   AsetUsaha               157 non-null    int64\n",
            " 3   omsetperbulan           157 non-null    int64\n",
            " 4   Gender_Perempuan        157 non-null    uint8\n",
            " 5   JenisPeminjam_Kelompok  157 non-null    uint8\n",
            " 6   Wilayah_Jawa Barat      157 non-null    uint8\n",
            " 7   Wilayah_Lainnya         157 non-null    uint8\n",
            " 8   JenisUsaha_Lainnya      157 non-null    uint8\n",
            " 9   JenisUsaha_Perdagangan  157 non-null    uint8\n",
            "dtypes: int64(4), uint8(6)\n",
            "memory usage: 7.1 KB\n"
          ]
        }
      ]
    },
    {
      "cell_type": "markdown",
      "source": [
        "# **Desicion Tree**"
      ],
      "metadata": {
        "id": "AMnGE6YTEUsf"
      }
    },
    {
      "cell_type": "code",
      "source": [
        "# Pemodelan Pohon Keputusan\n",
        "modeltree = DecisionTreeClassifier(criterion = 'gini', random_state = 5, max_depth= None, min_samples_leaf = 16)\n",
        "modeltree.fit(X_train, Y_train)"
      ],
      "metadata": {
        "colab": {
          "base_uri": "https://localhost:8080/",
          "height": 75
        },
        "id": "HHxUtXa6dg5c",
        "outputId": "0ea66da7-e820-475e-bba8-9cf0a555c566"
      },
      "execution_count": null,
      "outputs": [
        {
          "output_type": "execute_result",
          "data": {
            "text/plain": [
              "DecisionTreeClassifier(min_samples_leaf=16, random_state=5)"
            ],
            "text/html": [
              "<style>#sk-container-id-18 {color: black;background-color: white;}#sk-container-id-18 pre{padding: 0;}#sk-container-id-18 div.sk-toggleable {background-color: white;}#sk-container-id-18 label.sk-toggleable__label {cursor: pointer;display: block;width: 100%;margin-bottom: 0;padding: 0.3em;box-sizing: border-box;text-align: center;}#sk-container-id-18 label.sk-toggleable__label-arrow:before {content: \"▸\";float: left;margin-right: 0.25em;color: #696969;}#sk-container-id-18 label.sk-toggleable__label-arrow:hover:before {color: black;}#sk-container-id-18 div.sk-estimator:hover label.sk-toggleable__label-arrow:before {color: black;}#sk-container-id-18 div.sk-toggleable__content {max-height: 0;max-width: 0;overflow: hidden;text-align: left;background-color: #f0f8ff;}#sk-container-id-18 div.sk-toggleable__content pre {margin: 0.2em;color: black;border-radius: 0.25em;background-color: #f0f8ff;}#sk-container-id-18 input.sk-toggleable__control:checked~div.sk-toggleable__content {max-height: 200px;max-width: 100%;overflow: auto;}#sk-container-id-18 input.sk-toggleable__control:checked~label.sk-toggleable__label-arrow:before {content: \"▾\";}#sk-container-id-18 div.sk-estimator input.sk-toggleable__control:checked~label.sk-toggleable__label {background-color: #d4ebff;}#sk-container-id-18 div.sk-label input.sk-toggleable__control:checked~label.sk-toggleable__label {background-color: #d4ebff;}#sk-container-id-18 input.sk-hidden--visually {border: 0;clip: rect(1px 1px 1px 1px);clip: rect(1px, 1px, 1px, 1px);height: 1px;margin: -1px;overflow: hidden;padding: 0;position: absolute;width: 1px;}#sk-container-id-18 div.sk-estimator {font-family: monospace;background-color: #f0f8ff;border: 1px dotted black;border-radius: 0.25em;box-sizing: border-box;margin-bottom: 0.5em;}#sk-container-id-18 div.sk-estimator:hover {background-color: #d4ebff;}#sk-container-id-18 div.sk-parallel-item::after {content: \"\";width: 100%;border-bottom: 1px solid gray;flex-grow: 1;}#sk-container-id-18 div.sk-label:hover label.sk-toggleable__label {background-color: #d4ebff;}#sk-container-id-18 div.sk-serial::before {content: \"\";position: absolute;border-left: 1px solid gray;box-sizing: border-box;top: 0;bottom: 0;left: 50%;z-index: 0;}#sk-container-id-18 div.sk-serial {display: flex;flex-direction: column;align-items: center;background-color: white;padding-right: 0.2em;padding-left: 0.2em;position: relative;}#sk-container-id-18 div.sk-item {position: relative;z-index: 1;}#sk-container-id-18 div.sk-parallel {display: flex;align-items: stretch;justify-content: center;background-color: white;position: relative;}#sk-container-id-18 div.sk-item::before, #sk-container-id-18 div.sk-parallel-item::before {content: \"\";position: absolute;border-left: 1px solid gray;box-sizing: border-box;top: 0;bottom: 0;left: 50%;z-index: -1;}#sk-container-id-18 div.sk-parallel-item {display: flex;flex-direction: column;z-index: 1;position: relative;background-color: white;}#sk-container-id-18 div.sk-parallel-item:first-child::after {align-self: flex-end;width: 50%;}#sk-container-id-18 div.sk-parallel-item:last-child::after {align-self: flex-start;width: 50%;}#sk-container-id-18 div.sk-parallel-item:only-child::after {width: 0;}#sk-container-id-18 div.sk-dashed-wrapped {border: 1px dashed gray;margin: 0 0.4em 0.5em 0.4em;box-sizing: border-box;padding-bottom: 0.4em;background-color: white;}#sk-container-id-18 div.sk-label label {font-family: monospace;font-weight: bold;display: inline-block;line-height: 1.2em;}#sk-container-id-18 div.sk-label-container {text-align: center;}#sk-container-id-18 div.sk-container {/* jupyter's `normalize.less` sets `[hidden] { display: none; }` but bootstrap.min.css set `[hidden] { display: none !important; }` so we also need the `!important` here to be able to override the default hidden behavior on the sphinx rendered scikit-learn.org. See: https://github.com/scikit-learn/scikit-learn/issues/21755 */display: inline-block !important;position: relative;}#sk-container-id-18 div.sk-text-repr-fallback {display: none;}</style><div id=\"sk-container-id-18\" class=\"sk-top-container\"><div class=\"sk-text-repr-fallback\"><pre>DecisionTreeClassifier(min_samples_leaf=16, random_state=5)</pre><b>In a Jupyter environment, please rerun this cell to show the HTML representation or trust the notebook. <br />On GitHub, the HTML representation is unable to render, please try loading this page with nbviewer.org.</b></div><div class=\"sk-container\" hidden><div class=\"sk-item\"><div class=\"sk-estimator sk-toggleable\"><input class=\"sk-toggleable__control sk-hidden--visually\" id=\"sk-estimator-id-22\" type=\"checkbox\" checked><label for=\"sk-estimator-id-22\" class=\"sk-toggleable__label sk-toggleable__label-arrow\">DecisionTreeClassifier</label><div class=\"sk-toggleable__content\"><pre>DecisionTreeClassifier(min_samples_leaf=16, random_state=5)</pre></div></div></div></div></div>"
            ]
          },
          "metadata": {},
          "execution_count": 359
        }
      ]
    },
    {
      "cell_type": "code",
      "source": [
        "# Visualisasi Aturan-Aturan Pohon Keputusan\n",
        "fn = ['Usia','Pinjaman','AsetUsaha','omsetperbulan','Gender_Perempuan','JenisPeminjam_Kelompok','Wilayah_Jawa Barat','Wilayah_Lainnya','JenisUsaha_Lainnya','JenisUsaha_Perdagangan']\n",
        "cn = ['Macet', 'Lancar']\n",
        "fig, axes = plt.subplots(nrows = 1, ncols = 1, figsize = (4,4), dpi = 300)\n",
        "tree.plot_tree(modeltree, feature_names = fn, class_names = cn, filled = True)"
      ],
      "metadata": {
        "colab": {
          "base_uri": "https://localhost:8080/",
          "height": 1000
        },
        "id": "NSudjMoSt7ak",
        "outputId": "12526e18-aed0-448f-c44d-172120ebc5c1"
      },
      "execution_count": null,
      "outputs": [
        {
          "output_type": "execute_result",
          "data": {
            "text/plain": [
              "[Text(0.7569444444444444, 0.9444444444444444, 'JenisPeminjam_Kelompok <= 0.5\\ngini = 0.487\\nsamples = 364\\nvalue = [211, 153]\\nclass = Macet'),\n",
              " Text(0.7013888888888888, 0.8333333333333334, 'omsetperbulan <= 28500000.0\\ngini = 0.499\\nsamples = 316\\nvalue = [163, 153]\\nclass = Macet'),\n",
              " Text(0.5138888888888888, 0.7222222222222222, 'Pinjaman <= 17500000.0\\ngini = 0.488\\nsamples = 261\\nvalue = [151, 110]\\nclass = Macet'),\n",
              " Text(0.3055555555555556, 0.6111111111111112, 'Usia <= 38.5\\ngini = 0.5\\nsamples = 203\\nvalue = [99, 104]\\nclass = Lancar'),\n",
              " Text(0.1111111111111111, 0.5, 'Usia <= 29.5\\ngini = 0.438\\nsamples = 71\\nvalue = [48, 23]\\nclass = Macet'),\n",
              " Text(0.05555555555555555, 0.3888888888888889, 'gini = 0.198\\nsamples = 18\\nvalue = [16, 2]\\nclass = Macet'),\n",
              " Text(0.16666666666666666, 0.3888888888888889, 'Gender_Perempuan <= 0.5\\ngini = 0.478\\nsamples = 53\\nvalue = [32, 21]\\nclass = Macet'),\n",
              " Text(0.1111111111111111, 0.2777777777777778, 'gini = 0.444\\nsamples = 27\\nvalue = [18, 9]\\nclass = Macet'),\n",
              " Text(0.2222222222222222, 0.2777777777777778, 'gini = 0.497\\nsamples = 26\\nvalue = [14, 12]\\nclass = Macet'),\n",
              " Text(0.5, 0.5, 'Pinjaman <= 12500000.0\\ngini = 0.474\\nsamples = 132\\nvalue = [51, 81]\\nclass = Lancar'),\n",
              " Text(0.3888888888888889, 0.3888888888888889, 'Pinjaman <= 8750000.0\\ngini = 0.427\\nsamples = 94\\nvalue = [29, 65]\\nclass = Lancar'),\n",
              " Text(0.3333333333333333, 0.2777777777777778, 'gini = 0.498\\nsamples = 17\\nvalue = [8, 9]\\nclass = Lancar'),\n",
              " Text(0.4444444444444444, 0.2777777777777778, 'AsetUsaha <= 6750000.0\\ngini = 0.397\\nsamples = 77\\nvalue = [21, 56]\\nclass = Lancar'),\n",
              " Text(0.3333333333333333, 0.16666666666666666, 'AsetUsaha <= 3750000.0\\ngini = 0.32\\nsamples = 40\\nvalue = [8, 32]\\nclass = Lancar'),\n",
              " Text(0.2777777777777778, 0.05555555555555555, 'gini = 0.408\\nsamples = 21\\nvalue = [6, 15]\\nclass = Lancar'),\n",
              " Text(0.3888888888888889, 0.05555555555555555, 'gini = 0.188\\nsamples = 19\\nvalue = [2, 17]\\nclass = Lancar'),\n",
              " Text(0.5555555555555556, 0.16666666666666666, 'Usia <= 45.0\\ngini = 0.456\\nsamples = 37\\nvalue = [13, 24]\\nclass = Lancar'),\n",
              " Text(0.5, 0.05555555555555555, 'gini = 0.488\\nsamples = 19\\nvalue = [8, 11]\\nclass = Lancar'),\n",
              " Text(0.6111111111111112, 0.05555555555555555, 'gini = 0.401\\nsamples = 18\\nvalue = [5, 13]\\nclass = Lancar'),\n",
              " Text(0.6111111111111112, 0.3888888888888889, 'Gender_Perempuan <= 0.5\\ngini = 0.488\\nsamples = 38\\nvalue = [22, 16]\\nclass = Macet'),\n",
              " Text(0.5555555555555556, 0.2777777777777778, 'gini = 0.495\\nsamples = 20\\nvalue = [9, 11]\\nclass = Lancar'),\n",
              " Text(0.6666666666666666, 0.2777777777777778, 'gini = 0.401\\nsamples = 18\\nvalue = [13, 5]\\nclass = Macet'),\n",
              " Text(0.7222222222222222, 0.6111111111111112, 'AsetUsaha <= 8500000.0\\ngini = 0.185\\nsamples = 58\\nvalue = [52, 6]\\nclass = Macet'),\n",
              " Text(0.6666666666666666, 0.5, 'gini = 0.375\\nsamples = 16\\nvalue = [12, 4]\\nclass = Macet'),\n",
              " Text(0.7777777777777778, 0.5, 'Usia <= 41.5\\ngini = 0.091\\nsamples = 42\\nvalue = [40, 2]\\nclass = Macet'),\n",
              " Text(0.7222222222222222, 0.3888888888888889, 'gini = 0.208\\nsamples = 17\\nvalue = [15, 2]\\nclass = Macet'),\n",
              " Text(0.8333333333333334, 0.3888888888888889, 'gini = 0.0\\nsamples = 25\\nvalue = [25, 0]\\nclass = Macet'),\n",
              " Text(0.8888888888888888, 0.7222222222222222, 'omsetperbulan <= 31500000.0\\ngini = 0.341\\nsamples = 55\\nvalue = [12, 43]\\nclass = Lancar'),\n",
              " Text(0.8333333333333334, 0.6111111111111112, 'gini = 0.231\\nsamples = 30\\nvalue = [4, 26]\\nclass = Lancar'),\n",
              " Text(0.9444444444444444, 0.6111111111111112, 'gini = 0.435\\nsamples = 25\\nvalue = [8, 17]\\nclass = Lancar'),\n",
              " Text(0.8125, 0.8333333333333334, 'gini = 0.0\\nsamples = 48\\nvalue = [48, 0]\\nclass = Macet')]"
            ]
          },
          "metadata": {},
          "execution_count": 299
        },
        {
          "output_type": "display_data",
          "data": {
            "text/plain": [
              "<Figure size 1200x1200 with 1 Axes>"
            ],
            "image/png": "[encoded data removed]"
          },
          "metadata": {}
        }
      ]
    },
    {
      "cell_type": "code",
      "source": [
        "# Pembentukan Feature Importance\n",
        "feature_importance = modeltree.feature_importances_\n",
        "\n",
        "# Menampilkan Feature Importance untuk Setiap Fitur\n",
        "for i, importance in enumerate(feature_importance):\n",
        "    print(f\"Fitur {fn[i]}: {importance}\")"
      ],
      "metadata": {
        "colab": {
          "base_uri": "https://localhost:8080/"
        },
        "id": "Tdw8ASRqo9P7",
        "outputId": "b155707f-d834-4f25-b176-4ee9ed7d0682"
      },
      "execution_count": null,
      "outputs": [
        {
          "output_type": "stream",
          "name": "stdout",
          "text": [
            "Fitur Usia: 0.1573324631441208\n",
            "Fitur Pinjaman: 0.2989966702793885\n",
            "Fitur AsetUsaha: 0.03682371802455684\n",
            "Fitur omsetperbulan: 0.18934949066871756\n",
            "Fitur Gender_Perempuan: 0.027321100568345826\n",
            "Fitur JenisPeminjam_Kelompok: 0.2901765573148705\n",
            "Fitur Wilayah_Jawa Barat: 0.0\n",
            "Fitur Wilayah_Lainnya: 0.0\n",
            "Fitur JenisUsaha_Lainnya: 0.0\n",
            "Fitur JenisUsaha_Perdagangan: 0.0\n"
          ]
        }
      ]
    },
    {
      "cell_type": "code",
      "source": [
        "# Menghitung Nilai Akurasi Model Pohon Keputusan\n",
        "Y_predtree = modeltree.predict(X_test)\n",
        "print(\"Accuracy :\",metrics.accuracy_score(Y_test, Y_predtree))"
      ],
      "metadata": {
        "colab": {
          "base_uri": "https://localhost:8080/"
        },
        "id": "2oK1VqRRdnDY",
        "outputId": "fe7c7837-3195-4b97-e1cb-76b51cb3ff29"
      },
      "execution_count": null,
      "outputs": [
        {
          "output_type": "stream",
          "name": "stdout",
          "text": [
            "Accuracy : 0.732484076433121\n"
          ]
        }
      ]
    },
    {
      "cell_type": "markdown",
      "source": [
        "# **Random Forest**"
      ],
      "metadata": {
        "id": "WZQHPsK2EjSy"
      }
    },
    {
      "cell_type": "code",
      "source": [
        "from sklearn.ensemble import RandomForestClassifier\n",
        "\n",
        "# Membuat model Random Forest\n",
        "random_forest_model = RandomForestClassifier(n_estimators=16, random_state=12345)\n",
        "\n",
        "# Melatih model pada data latih\n",
        "random_forest_model.fit(X_train, Y_train)\n",
        "\n",
        "# Melakukan prediksi pada data uji\n",
        "predictions_rf = random_forest_model.predict(X_test)\n",
        "\n",
        "# Mengukur akurasi\n",
        "accuracy = accuracy_score(Y_test, predictions_rf)\n",
        "print(f\"Accuracy: {accuracy}\")"
      ],
      "metadata": {
        "colab": {
          "base_uri": "https://localhost:8080/"
        },
        "id": "aiB-TWby0BOW",
        "outputId": "6ef3c63b-6f5d-4192-e4ed-19fc99d1b7aa"
      },
      "execution_count": null,
      "outputs": [
        {
          "output_type": "stream",
          "name": "stdout",
          "text": [
            "Accuracy: 0.802547770700637\n"
          ]
        }
      ]
    },
    {
      "cell_type": "markdown",
      "source": [
        "# **Gradient Boosting**"
      ],
      "metadata": {
        "id": "FlFQJM3VEtua"
      }
    },
    {
      "cell_type": "code",
      "source": [
        "from sklearn.ensemble import GradientBoostingClassifier\n",
        "\n",
        "# Membuat model GBM\n",
        "GradientBoosting_model = GradientBoostingClassifier(n_estimators=25, random_state=12345)\n",
        "\n",
        "# Melatih model pada data pelatihan\n",
        "GradientBoosting_model.fit(X_train, Y_train)\n",
        "\n",
        "# Melakukan prediksi pada data uji\n",
        "predictions_gbm = GradientBoosting_model.predict(X_test)\n",
        "\n",
        "# Mengukur akurasi\n",
        "accuracy = accuracy_score(Y_test, predictions_gbm)\n",
        "print(f'Accuracy: {accuracy}')"
      ],
      "metadata": {
        "colab": {
          "base_uri": "https://localhost:8080/"
        },
        "id": "cJrOoaBS2qej",
        "outputId": "0d647e4b-ba46-4908-cee0-7720462d599e"
      },
      "execution_count": null,
      "outputs": [
        {
          "output_type": "stream",
          "name": "stdout",
          "text": [
            "Accuracy: 0.7898089171974523\n"
          ]
        }
      ]
    },
    {
      "cell_type": "markdown",
      "source": [
        "# **Bagging**"
      ],
      "metadata": {
        "id": "Lmq2cmycE0KK"
      }
    },
    {
      "cell_type": "code",
      "source": [
        "model_bag = BaggingClassifier(estimator=DecisionTreeClassifier(), n_estimators=625, random_state=1234)\n",
        "model_bag.fit(X_train, Y_train)\n",
        "predictions_bag = model_bag.predict(X_test)\n",
        "accuracy = accuracy_score(Y_test, predictions_bag)\n",
        "print(f'Accuracy: {accuracy}')"
      ],
      "metadata": {
        "colab": {
          "base_uri": "https://localhost:8080/"
        },
        "id": "Uspwkico202W",
        "outputId": "e2d7629d-e759-44ec-8212-712d7e13a1b6"
      },
      "execution_count": null,
      "outputs": [
        {
          "output_type": "stream",
          "name": "stdout",
          "text": [
            "Accuracy: 0.821656050955414\n"
          ]
        }
      ]
    },
    {
      "cell_type": "markdown",
      "source": [
        "# **Adaboost**"
      ],
      "metadata": {
        "id": "Qszhg5SJE7Dy"
      }
    },
    {
      "cell_type": "code",
      "source": [
        "from sklearn.ensemble import AdaBoostClassifier\n",
        "from sklearn.tree import DecisionTreeClassifier\n",
        "from sklearn.metrics import accuracy_score\n",
        "\n",
        "# Membuat model AdaBoost dengan DecisionTreeClassifier sebagai base estimator\n",
        "base_estimator = DecisionTreeClassifier(max_depth=16)\n",
        "AdaBoost_model = AdaBoostClassifier(base_estimator=base_estimator, n_estimators=625, random_state=1234)\n",
        "\n",
        "# Melatih model pada data pelatihan\n",
        "AdaBoost_model.fit(X_train, Y_train)\n",
        "\n",
        "# Melakukan prediksi pada data uji\n",
        "predictions_adaboost = AdaBoost_model.predict(X_test)\n",
        "\n",
        "# Mengukur akurasi\n",
        "accuracy_adaboost = accuracy_score(Y_test, predictions_adaboost)\n",
        "print(f'Accuracy (AdaBoost): {accuracy_adaboost}')\n"
      ],
      "metadata": {
        "colab": {
          "base_uri": "https://localhost:8080/"
        },
        "id": "YW1gcwET58mR",
        "outputId": "626db859-8e5c-461e-d7ae-a5070224bd53"
      },
      "execution_count": null,
      "outputs": [
        {
          "output_type": "stream",
          "name": "stdout",
          "text": [
            "Accuracy (AdaBoost): 0.7579617834394905\n"
          ]
        },
        {
          "output_type": "stream",
          "name": "stderr",
          "text": [
            "/usr/local/lib/python3.10/dist-packages/sklearn/ensemble/_base.py:166: FutureWarning: `base_estimator` was renamed to `estimator` in version 1.2 and will be removed in 1.4.\n",
            "  warnings.warn(\n"
          ]
        }
      ]
    },
    {
      "cell_type": "code",
      "source": [
        "# Menghitung Nilai Sensitivitas dan Spesifisitas\n",
        "sensitivity = conf_matrix[1, 1] / (conf_matrix[1, 0] + conf_matrix[1, 1])\n",
        "specificity = conf_matrix[0, 0] / (conf_matrix[0, 0] + conf_matrix[0, 1])\n",
        "\n",
        "# Menampilkan Nilai Sensitivitas dan Spesifisitas\n",
        "print(f\"--------------------------------\")\n",
        "print(f\"Sensitivity : {sensitivity}\")\n",
        "print(f\"Specificity : {specificity}\")\n",
        "print(f\"--------------------------------\")\n",
        "print(f\"                                \")\n",
        "\n",
        "# Hasil Laporan Klasifikasi\n",
        "print(\"Classification Report :\")\n",
        "print(classification_report(Y_test, predictions_bag))"
      ],
      "metadata": {
        "colab": {
          "base_uri": "https://localhost:8080/"
        },
        "id": "Dya_WrCqdv5d",
        "outputId": "ff2229b1-2a8c-4c2a-cf65-2f680c7cf5d5"
      },
      "execution_count": null,
      "outputs": [
        {
          "output_type": "stream",
          "name": "stdout",
          "text": [
            "--------------------------------\n",
            "Sensitivity : 0.6911764705882353\n",
            "Specificity : 0.7640449438202247\n",
            "--------------------------------\n",
            "                                \n",
            "Classification Report :\n",
            "              precision    recall  f1-score   support\n",
            "\n",
            "      Lancar       0.85      0.83      0.84        89\n",
            "       Macet       0.79      0.81      0.80        68\n",
            "\n",
            "    accuracy                           0.82       157\n",
            "   macro avg       0.82      0.82      0.82       157\n",
            "weighted avg       0.82      0.82      0.82       157\n",
            "\n"
          ]
        }
      ]
    }
  ]
}